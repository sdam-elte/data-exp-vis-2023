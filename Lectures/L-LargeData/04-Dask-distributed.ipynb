{
 "cells": [
  {
   "cell_type": "markdown",
   "metadata": {},
   "source": [
    "## DASK intro\n",
    "Original source: https://www.machinelearningplus.com/python/dask-tutorial/"
   ]
  },
  {
   "cell_type": "code",
   "execution_count": null,
   "metadata": {
    "ExecuteTime": {
     "end_time": "2021-04-26T10:42:06.893366Z",
     "start_time": "2021-04-26T10:42:06.883897Z"
    }
   },
   "outputs": [],
   "source": [
    "from time import sleep"
   ]
  },
  {
   "cell_type": "markdown",
   "metadata": {},
   "source": [
    "### Dask DataFrames\n",
    "A Dask DataFrame is a large parallel DataFrame composed of many smaller Pandas DataFrames, split along the index. "
   ]
  },
  {
   "cell_type": "code",
   "execution_count": null,
   "metadata": {
    "ExecuteTime": {
     "end_time": "2021-04-26T10:42:20.925521Z",
     "start_time": "2021-04-26T10:42:19.348233Z"
    }
   },
   "outputs": [],
   "source": [
    "import dask.dataframe as dd\n",
    "data_frame = dask.datasets.timeseries()"
   ]
  },
  {
   "cell_type": "code",
   "execution_count": null,
   "metadata": {
    "ExecuteTime": {
     "end_time": "2021-04-26T10:42:21.107438Z",
     "start_time": "2021-04-26T10:42:20.943047Z"
    }
   },
   "outputs": [],
   "source": [
    "# Applying groupby operation\n",
    "df = data_frame.groupby('name').y.std()\n",
    "df"
   ]
  },
  {
   "cell_type": "code",
   "execution_count": null,
   "metadata": {
    "ExecuteTime": {
     "end_time": "2021-04-26T10:42:21.126769Z",
     "start_time": "2021-04-26T10:42:21.111151Z"
    }
   },
   "outputs": [],
   "source": [
    "data_frame.columns"
   ]
  },
  {
   "cell_type": "code",
   "execution_count": null,
   "metadata": {
    "ExecuteTime": {
     "end_time": "2021-04-26T10:42:26.285494Z",
     "start_time": "2021-04-26T10:42:21.130383Z"
    }
   },
   "outputs": [],
   "source": [
    "%%time\n",
    "pandas_df = df.compute()\n",
    "type(pandas_df)"
   ]
  },
  {
   "cell_type": "code",
   "execution_count": null,
   "metadata": {
    "ExecuteTime": {
     "end_time": "2021-04-26T10:42:30.573425Z",
     "start_time": "2021-04-26T10:42:26.288888Z"
    }
   },
   "outputs": [],
   "source": [
    "# Calling the persist function of dask dataframe\n",
    "df = df.persist()\n",
    "type(df)"
   ]
  },
  {
   "cell_type": "markdown",
   "metadata": {},
   "source": [
    "### Dask Bags\n",
    "Dask.bag is a high-level Dask collection used as an alternative for the regular python lists, etc. The main difference is Dask Bags are lazy and distributed."
   ]
  },
  {
   "cell_type": "code",
   "execution_count": null,
   "metadata": {
    "ExecuteTime": {
     "end_time": "2021-04-23T12:12:22.283784Z",
     "start_time": "2021-04-23T12:12:22.278740Z"
    }
   },
   "outputs": [],
   "source": [
    "dask.__version__"
   ]
  },
  {
   "cell_type": "code",
   "execution_count": null,
   "metadata": {
    "ExecuteTime": {
     "end_time": "2021-04-23T12:14:04.082645Z",
     "start_time": "2021-04-23T12:14:04.030180Z"
    }
   },
   "outputs": [],
   "source": [
    "import dask.bag as db"
   ]
  },
  {
   "cell_type": "code",
   "execution_count": null,
   "metadata": {
    "ExecuteTime": {
     "end_time": "2021-04-23T12:14:09.401447Z",
     "start_time": "2021-04-23T12:14:09.394298Z"
    }
   },
   "outputs": [],
   "source": [
    "a = db.from_url('http://raw.githubusercontent.com/dask/dask/master/README.rst',) \n",
    "a.npartitions  "
   ]
  },
  {
   "cell_type": "code",
   "execution_count": null,
   "metadata": {},
   "outputs": [],
   "source": [
    "a.visualize()"
   ]
  },
  {
   "cell_type": "code",
   "execution_count": null,
   "metadata": {},
   "outputs": [],
   "source": [
    "adf = a.to_dataframe()"
   ]
  },
  {
   "cell_type": "code",
   "execution_count": null,
   "metadata": {},
   "outputs": [],
   "source": [
    "adf.head()"
   ]
  },
  {
   "cell_type": "markdown",
   "metadata": {},
   "source": [
    "### DASK distributed"
   ]
  },
  {
   "cell_type": "markdown",
   "metadata": {},
   "source": [
    "Install https://github.com/dask/dask-labextension for more features!"
   ]
  },
  {
   "cell_type": "code",
   "execution_count": null,
   "metadata": {
    "ExecuteTime": {
     "end_time": "2021-04-26T10:43:03.232789Z",
     "start_time": "2021-04-26T10:43:01.885890Z"
    },
    "scrolled": true
   },
   "outputs": [],
   "source": [
    "# Import dask.distributed.Client and pandas\n",
    "from dask.distributed import Client\n",
    "import pandas as pd\n",
    "import time\n",
    "\n",
    "# Initializing a client\n",
    "client = Client(processes=False)\n",
    "client"
   ]
  },
  {
   "cell_type": "code",
   "execution_count": null,
   "metadata": {
    "ExecuteTime": {
     "end_time": "2021-04-23T12:39:36.916186Z",
     "start_time": "2021-04-23T12:39:35.846646Z"
    }
   },
   "outputs": [],
   "source": [
    "client.close()"
   ]
  },
  {
   "cell_type": "code",
   "execution_count": null,
   "metadata": {
    "ExecuteTime": {
     "end_time": "2021-04-26T10:43:07.144422Z",
     "start_time": "2021-04-26T10:43:06.960475Z"
    }
   },
   "outputs": [],
   "source": [
    "# Read csv  file into a pandas dataframe and process it\n",
    "# This is a large file!!!\n",
    "#df = pd.read_csv('/v/courses/dataesp2023.public/Datasets/D-LargeData/crcrimes.csv', sep='\\t')\n",
    "#df = df.drop('Unnamed: 0', axis=1)\n",
    "#df = df.set_index('itm_nb')\n",
    "df.head()"
   ]
  },
  {
   "cell_type": "code",
   "execution_count": null,
   "metadata": {
    "ExecuteTime": {
     "end_time": "2021-04-26T10:43:12.621859Z",
     "start_time": "2021-04-26T10:43:12.616875Z"
    }
   },
   "outputs": [],
   "source": [
    "cols = df.columns"
   ]
  },
  {
   "cell_type": "code",
   "execution_count": null,
   "metadata": {
    "ExecuteTime": {
     "end_time": "2021-04-26T10:43:15.016337Z",
     "start_time": "2021-04-26T10:43:15.012165Z"
    }
   },
   "outputs": [],
   "source": [
    "# A function to perform desired operation\n",
    "def do_operation(df, index, col):\n",
    "    new_df=df[col]"
   ]
  },
  {
   "cell_type": "code",
   "execution_count": null,
   "metadata": {
    "ExecuteTime": {
     "end_time": "2021-04-23T12:40:58.397522Z",
     "start_time": "2021-04-23T12:40:57.686600Z"
    }
   },
   "outputs": [],
   "source": [
    "%%time\n",
    "# Loop through the indices and columns and call the function.\n",
    "for index in df.index:\n",
    "    for col in cols:\n",
    "        do_operation(df, index, col)"
   ]
  },
  {
   "cell_type": "code",
   "execution_count": null,
   "metadata": {
    "ExecuteTime": {
     "end_time": "2021-04-23T12:42:07.308218Z",
     "start_time": "2021-04-23T12:41:59.343966Z"
    }
   },
   "outputs": [],
   "source": [
    "%%time\n",
    "# Use Dask client to parallelize the workload.\n",
    "\n",
    "# Create a futures array to store the futures returned by Dask\n",
    "futures = []\n",
    "\n",
    "# Scatter the dataframe beforehand\n",
    "df_future = client.scatter(df)\n",
    "\n",
    "for index in df.index:\n",
    "    for col in cols:\n",
    "        # Submit tasks to the dask client in parallel\n",
    "        future = client.submit(do_operation, df_future, index, col)\n",
    "        # Store the returned future in futures list\n",
    "        futures.append(future)\n",
    "\n",
    "# Gather the results.\n",
    "_ = client.gather(futures)"
   ]
  },
  {
   "cell_type": "code",
   "execution_count": null,
   "metadata": {},
   "outputs": [],
   "source": []
  }
 ],
 "metadata": {
  "finalized": {
   "timestamp": 1619181228925,
   "trusted": true
  },
  "kernelspec": {
   "display_name": "Python 3",
   "language": "python",
   "name": "python3"
  },
  "language_info": {
   "codemirror_mode": {
    "name": "ipython",
    "version": 3
   },
   "file_extension": ".py",
   "mimetype": "text/x-python",
   "name": "python",
   "nbconvert_exporter": "python",
   "pygments_lexer": "ipython3",
   "version": "3.8.8"
  }
 },
 "nbformat": 4,
 "nbformat_minor": 4
}

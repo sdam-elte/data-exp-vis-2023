{
 "cells": [
  {
   "cell_type": "code",
   "execution_count": 25,
   "metadata": {
    "ExecuteTime": {
     "end_time": "2020-11-18T22:22:28.607644Z",
     "start_time": "2020-11-18T22:22:28.602362Z"
    }
   },
   "outputs": [
    {
     "name": "stdout",
     "output_type": "stream",
     "text": [
      "Defaulting to user installation because normal site-packages is not writeable\n",
      "Collecting elasticsearch==7.17\n",
      "  Downloading elasticsearch-7.17.0-py2.py3-none-any.whl (385 kB)\n",
      "\u001b[K     |████████████████████████████████| 385 kB 10.6 MB/s eta 0:00:01\n",
      "\u001b[?25hRequirement already satisfied: urllib3<2,>=1.21.1 in /opt/conda/lib/python3.8/site-packages (from elasticsearch==7.17) (1.26.4)\n",
      "Requirement already satisfied: certifi in /opt/conda/lib/python3.8/site-packages (from elasticsearch==7.17) (2020.12.5)\n",
      "Installing collected packages: elasticsearch\n",
      "  Attempting uninstall: elasticsearch\n",
      "    Found existing installation: elasticsearch 8.7.0\n",
      "    Uninstalling elasticsearch-8.7.0:\n",
      "      Successfully uninstalled elasticsearch-8.7.0\n",
      "Successfully installed elasticsearch-7.17.0\n"
     ]
    }
   ],
   "source": [
    "# !pip install --user xmltodict\n",
    "#!pip install elasticsearch==7.17"
   ]
  },
  {
   "cell_type": "code",
   "execution_count": 1,
   "metadata": {
    "ExecuteTime": {
     "end_time": "2021-05-03T11:07:53.172264Z",
     "start_time": "2021-05-03T11:07:48.999203Z"
    }
   },
   "outputs": [],
   "source": [
    "import random\n",
    "import pytz\n",
    "import shapely\n",
    "from shapely.geometry import Point\n",
    "import elasticsearch\n",
    "from datetime import datetime\n",
    "import time\n"
   ]
  },
  {
   "cell_type": "code",
   "execution_count": 4,
   "metadata": {
    "ExecuteTime": {
     "end_time": "2021-05-03T11:07:53.942510Z",
     "start_time": "2021-05-03T11:07:53.934311Z"
    }
   },
   "outputs": [],
   "source": [
    "# define mapping\n",
    "mapping = {\n",
    "        \"mappings\": {\n",
    "            #\"mydocs\": {\n",
    "                \"properties\": {\n",
    "                    \"Date\": {\n",
    "                     \"type\": \"date\"\n",
    "                    },\n",
    "                    \"Destination\": {\n",
    "                     \"type\": \"geo_point\"\n",
    "                    },\n",
    "                    \"Origin\": {\n",
    "                      \"type\": \"geo_point\"\n",
    "                    },\n",
    "                    \"Title\": {\n",
    "                      \"type\": \"keyword\"\n",
    "                    },\n",
    "                }\n",
    "            #}\n",
    "       }\n",
    "}"
   ]
  },
  {
   "cell_type": "code",
   "execution_count": 2,
   "metadata": {},
   "outputs": [
    {
     "name": "stdout",
     "output_type": "stream",
     "text": [
      "{\r\n",
      "  \"name\" : \"adb999e53fb9\",\r\n",
      "  \"cluster_name\" : \"docker-cluster\",\r\n",
      "  \"cluster_uuid\" : \"q0KmC5CxQ0K34Sg8v1ZNqw\",\r\n",
      "  \"version\" : {\r\n",
      "    \"number\" : \"7.8.0\",\r\n",
      "    \"build_flavor\" : \"default\",\r\n",
      "    \"build_type\" : \"docker\",\r\n",
      "    \"build_hash\" : \"757314695644ea9a1dc2fecd26d1a43856725e65\",\r\n",
      "    \"build_date\" : \"2020-06-14T19:35:50.234439Z\",\r\n",
      "    \"build_snapshot\" : false,\r\n",
      "    \"lucene_version\" : \"8.5.1\",\r\n",
      "    \"minimum_wire_compatibility_version\" : \"6.8.0\",\r\n",
      "    \"minimum_index_compatibility_version\" : \"6.0.0-beta1\"\r\n",
      "  },\r\n",
      "  \"tagline\" : \"You Know, for Search\"\r\n",
      "}\r\n"
     ]
    }
   ],
   "source": [
    "!curl kooplex-fiek.elte.hu:9100"
   ]
  },
  {
   "cell_type": "code",
   "execution_count": 3,
   "metadata": {
    "ExecuteTime": {
     "end_time": "2021-05-03T12:52:56.207160Z",
     "start_time": "2021-05-03T12:52:56.199718Z"
    }
   },
   "outputs": [
    {
     "name": "stdout",
     "output_type": "stream",
     "text": [
      "{'name': 'adb999e53fb9', 'cluster_name': 'docker-cluster', 'cluster_uuid': 'q0KmC5CxQ0K34Sg8v1ZNqw', 'version': {'number': '7.8.0', 'build_flavor': 'default', 'build_type': 'docker', 'build_hash': '757314695644ea9a1dc2fecd26d1a43856725e65', 'build_date': '2020-06-14T19:35:50.234439Z', 'build_snapshot': False, 'lucene_version': '8.5.1', 'minimum_wire_compatibility_version': '6.8.0', 'minimum_index_compatibility_version': '6.0.0-beta1'}, 'tagline': 'You Know, for Search'}\n"
     ]
    }
   ],
   "source": [
    "# load Elasticsearch\n",
    "try:\n",
    "    es = elasticsearch.Elasticsearch([\"http://kooplex-fiek.elte.hu:9100\"])\n",
    "    print(es.info())\n",
    "except:\n",
    "    print( \"unable to es\")"
   ]
  },
  {
   "cell_type": "code",
   "execution_count": 7,
   "metadata": {
    "ExecuteTime": {
     "end_time": "2021-05-03T12:56:36.116510Z",
     "start_time": "2021-05-03T12:56:35.348638Z"
    }
   },
   "outputs": [],
   "source": [
    "# create index mass_traffic\n",
    "try:\n",
    "    response = es.indices.create(index=\"random_point2\",body=mapping, ignore=400)\n",
    "except Exception as e:\n",
    "    print(e)"
   ]
  },
  {
   "cell_type": "code",
   "execution_count": 8,
   "metadata": {
    "ExecuteTime": {
     "end_time": "2021-05-03T12:56:37.909179Z",
     "start_time": "2021-05-03T12:56:37.874554Z"
    }
   },
   "outputs": [
    {
     "data": {
      "text/plain": [
       "{'acknowledged': True, 'shards_acknowledged': True, 'index': 'random_point2'}"
      ]
     },
     "execution_count": 8,
     "metadata": {},
     "output_type": "execute_result"
    }
   ],
   "source": [
    "response"
   ]
  },
  {
   "cell_type": "code",
   "execution_count": null,
   "metadata": {
    "ExecuteTime": {
     "end_time": "2020-11-18T22:22:52.917398Z",
     "start_time": "2020-11-18T22:22:46.984677Z"
    },
    "scrolled": false
   },
   "outputs": [],
   "source": [
    "now = pytz.utc.localize(datetime.utcnow())\n",
    "id=1\n",
    "latr1, latr2, lonr1, lonr2 = [random.uniform(-10,10) for i in range(4)]\n",
    "while True:\n",
    "    try:\n",
    "        new_body = {}\n",
    "        new_body[\"Date\"] =  datetime.strftime(now,'%Y-%m-%dT%H:%M:%S.%fZ')\n",
    "        p = Point((random.uniform(0.2+latr1,23+latr1), random.uniform(45.5+lonr1,49+lonr1))) \n",
    "        new_body[\"Destination\"] = { \"lat\": p.x, 'lon': p.y}                \n",
    "        p = Point((random.uniform(-43+latr2,-10+latr2), random.uniform(25.5+lonr2,39+lonr2))) \n",
    "        new_body[\"Origin\"] = {\"lat\": p.x, 'lon': p.y}              \n",
    "\n",
    "        new_body[\"Title\"] = random.choice(['flight1, flight2, flight3'])\n",
    "        id+=1\n",
    "\n",
    "\n",
    "        print(new_body)\n",
    "        res = es.index(index=\"random_point\", doc_type=\"_doc\", id=id, body=new_body)\n",
    "        print( \"------------------------------------------\")\n",
    "        print(res)\n",
    "    except Exception as e:\n",
    "        print( \"------------------------------------------\")\n",
    "        print(\"unable to index in elasticsearch\")\n",
    "        print( \"------------------------------------------\")\n",
    "        error = \"{0}: {1}\".format(id,e)\n",
    "        print( error)\n",
    "        print( \"------------------------------------------\")\n",
    "    print( \"all done, starting again soon\")\n",
    "    time.sleep(5)\n",
    "    if id==30:\n",
    "        id=1\n",
    "        latr1, latr2, lonr1, lonr2 = random(4)\n",
    "        latr1, latr2, lonr1, lonr2 = [random.uniform(-10,10) for i in range(4)]\n"
   ]
  },
  {
   "cell_type": "markdown",
   "metadata": {},
   "source": [
    "## Queries DSL\n",
    "\n",
    "GET random_point/_search\n",
    "{\n",
    "   \"query\": {\n",
    "    \"bool\": {\n",
    "      \"must\": {\n",
    "        \"match_all\": {}\n",
    "      },\n",
    "      \"filter\": {\n",
    "        \"geo_bounding_box\": {\n",
    "          \"Origin\": {\n",
    "            \"top_left\": {\n",
    "              \"lat\": -28.6603547,\n",
    "              \"lon\": 0.2268691\n",
    "            },\n",
    "            \"bottom_right\": {\n",
    "              \"lat\": -48.3658642,\n",
    "              \"lon\": -26.9556643\n",
    "            }\n",
    "          }\n",
    "        }\n",
    "      }\n",
    "    }\n",
    "  }\n",
    "}\n",
    "\n"
   ]
  },
  {
   "cell_type": "code",
   "execution_count": 4,
   "metadata": {},
   "outputs": [
    {
     "data": {
      "text/plain": [
       "True"
      ]
     },
     "execution_count": 4,
     "metadata": {},
     "output_type": "execute_result"
    }
   ],
   "source": [
    "es.ping()"
   ]
  },
  {
   "cell_type": "code",
   "execution_count": 5,
   "metadata": {
    "ExecuteTime": {
     "end_time": "2021-05-03T14:39:41.561136Z",
     "start_time": "2021-05-03T14:39:41.518878Z"
    },
    "scrolled": true
   },
   "outputs": [
    {
     "data": {
      "text/plain": [
       "{'took': 5,\n",
       " 'timed_out': False,\n",
       " '_shards': {'total': 3, 'successful': 3, 'skipped': 0, 'failed': 0},\n",
       " 'hits': {'total': {'value': 30, 'relation': 'eq'},\n",
       "  'max_score': 1.0,\n",
       "  'hits': [{'_index': 'random_point',\n",
       "    '_type': '_doc',\n",
       "    '_id': '2',\n",
       "    '_score': 1.0,\n",
       "    '_source': {'Date': '2021-05-04T14:38:34.784436Z',\n",
       "     'Destination': {'lat': 5.879576016187655, 'lon': 46.97323166969407},\n",
       "     'Origin': {'lat': -36.69539171970964, 'lon': 30.745200421293113},\n",
       "     'Title': 'flight1, flight2, flight3'}},\n",
       "   {'_index': 'random_point',\n",
       "    '_type': '_doc',\n",
       "    '_id': '3',\n",
       "    '_score': 1.0,\n",
       "    '_source': {'Date': '2021-05-04T14:38:34.784436Z',\n",
       "     'Destination': {'lat': 4.363029482118389, 'lon': 47.33500886447054},\n",
       "     'Origin': {'lat': -21.19022835197835, 'lon': 34.879807677623276},\n",
       "     'Title': 'flight1, flight2, flight3'}},\n",
       "   {'_index': 'random_point',\n",
       "    '_type': '_doc',\n",
       "    '_id': '4',\n",
       "    '_score': 1.0,\n",
       "    '_source': {'Date': '2021-05-04T14:38:34.784436Z',\n",
       "     'Destination': {'lat': 2.617252834095508, 'lon': 44.460758118918456},\n",
       "     'Origin': {'lat': -30.267927658313283, 'lon': 37.89110105567977},\n",
       "     'Title': 'flight1, flight2, flight3'}},\n",
       "   {'_index': 'random_point',\n",
       "    '_type': '_doc',\n",
       "    '_id': '5',\n",
       "    '_score': 1.0,\n",
       "    '_source': {'Date': '2021-05-04T14:38:34.784436Z',\n",
       "     'Destination': {'lat': 3.730268010950857, 'lon': 44.82812234213533},\n",
       "     'Origin': {'lat': -34.347999360400095, 'lon': 30.724999492952566},\n",
       "     'Title': 'flight1, flight2, flight3'}},\n",
       "   {'_index': 'random_point',\n",
       "    '_type': '_doc',\n",
       "    '_id': '6',\n",
       "    '_score': 1.0,\n",
       "    '_source': {'Date': '2021-05-04T14:38:34.784436Z',\n",
       "     'Destination': {'lat': 15.705214380553727, 'lon': 45.23270043885947},\n",
       "     'Origin': {'lat': -22.27575777200376, 'lon': 35.75775676467692},\n",
       "     'Title': 'flight1, flight2, flight3'}},\n",
       "   {'_index': 'random_point',\n",
       "    '_type': '_doc',\n",
       "    '_id': '7',\n",
       "    '_score': 1.0,\n",
       "    '_source': {'Date': '2021-05-04T14:38:34.784436Z',\n",
       "     'Destination': {'lat': 1.0379314513393334, 'lon': 44.598338664473445},\n",
       "     'Origin': {'lat': -19.11075432783668, 'lon': 28.652598012056636},\n",
       "     'Title': 'flight1, flight2, flight3'}},\n",
       "   {'_index': 'random_point',\n",
       "    '_type': '_doc',\n",
       "    '_id': '8',\n",
       "    '_score': 1.0,\n",
       "    '_source': {'Date': '2021-05-04T14:38:34.784436Z',\n",
       "     'Destination': {'lat': 10.7978791068462, 'lon': 44.407714874111626},\n",
       "     'Origin': {'lat': -25.652231405016927, 'lon': 39.62178301281939},\n",
       "     'Title': 'flight1, flight2, flight3'}},\n",
       "   {'_index': 'random_point',\n",
       "    '_type': '_doc',\n",
       "    '_id': '9',\n",
       "    '_score': 1.0,\n",
       "    '_source': {'Date': '2021-05-04T14:38:34.784436Z',\n",
       "     'Destination': {'lat': 4.979342776112802, 'lon': 44.87170615132429},\n",
       "     'Origin': {'lat': -40.50073286441989, 'lon': 30.8738252009112},\n",
       "     'Title': 'flight1, flight2, flight3'}},\n",
       "   {'_index': 'random_point',\n",
       "    '_type': '_doc',\n",
       "    '_id': '10',\n",
       "    '_score': 1.0,\n",
       "    '_source': {'Date': '2021-05-04T14:38:34.784436Z',\n",
       "     'Destination': {'lat': 6.109230689655798, 'lon': 46.451639824918445},\n",
       "     'Origin': {'lat': -19.101835789901116, 'lon': 38.45351148022015},\n",
       "     'Title': 'flight1, flight2, flight3'}},\n",
       "   {'_index': 'random_point',\n",
       "    '_type': '_doc',\n",
       "    '_id': '11',\n",
       "    '_score': 1.0,\n",
       "    '_source': {'Date': '2021-05-04T14:38:34.784436Z',\n",
       "     'Destination': {'lat': 12.472970190894554, 'lon': 46.59302469661857},\n",
       "     'Origin': {'lat': -31.587959999930025, 'lon': 27.90319754550379},\n",
       "     'Title': 'flight1, flight2, flight3'}}]}}"
      ]
     },
     "execution_count": 5,
     "metadata": {},
     "output_type": "execute_result"
    }
   ],
   "source": [
    "# Search in random_point index\n",
    "res = es.search(index=\"random_*\")\n",
    "res"
   ]
  },
  {
   "cell_type": "code",
   "execution_count": 6,
   "metadata": {
    "ExecuteTime": {
     "end_time": "2021-05-03T14:40:06.707213Z",
     "start_time": "2021-05-03T14:40:06.684107Z"
    },
    "scrolled": false
   },
   "outputs": [
    {
     "data": {
      "text/plain": [
       "{'_index': 'random_point',\n",
       " '_type': '_doc',\n",
       " '_id': '2',\n",
       " '_version': 8,\n",
       " '_seq_no': 308,\n",
       " '_primary_term': 4,\n",
       " 'found': True,\n",
       " '_source': {'Date': '2021-05-04T14:38:34.784436Z',\n",
       "  'Destination': {'lat': 5.879576016187655, 'lon': 46.97323166969407},\n",
       "  'Origin': {'lat': -36.69539171970964, 'lon': 30.745200421293113},\n",
       "  'Title': 'flight1, flight2, flight3'}}"
      ]
     },
     "execution_count": 6,
     "metadata": {},
     "output_type": "execute_result"
    }
   ],
   "source": [
    "res=es.get(index='random_point',doc_type='_doc', id=2)\n",
    "res"
   ]
  },
  {
   "cell_type": "code",
   "execution_count": null,
   "metadata": {},
   "outputs": [],
   "source": []
  }
 ],
 "metadata": {
  "finalized": {
   "timestamp": 1683705502384,
   "trusted": false
  },
  "kernelspec": {
   "display_name": "Python 3",
   "language": "python",
   "name": "python3"
  },
  "language_info": {
   "codemirror_mode": {
    "name": "ipython",
    "version": 3
   },
   "file_extension": ".py",
   "mimetype": "text/x-python",
   "name": "python",
   "nbconvert_exporter": "python",
   "pygments_lexer": "ipython3",
   "version": "3.8.8"
  }
 },
 "nbformat": 4,
 "nbformat_minor": 4
}

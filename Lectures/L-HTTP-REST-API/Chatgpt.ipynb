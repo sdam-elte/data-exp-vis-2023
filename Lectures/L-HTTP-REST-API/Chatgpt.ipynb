{
 "cells": [
  {
   "cell_type": "code",
   "execution_count": 1,
   "id": "1f105546-2162-433f-b322-e6f95bab68b7",
   "metadata": {},
   "outputs": [
    {
     "ename": "ModuleNotFoundError",
     "evalue": "No module named 'fastapi'",
     "output_type": "error",
     "traceback": [
      "\u001b[0;31m---------------------------------------------------------------------------\u001b[0m",
      "\u001b[0;31mModuleNotFoundError\u001b[0m                       Traceback (most recent call last)",
      "\u001b[0;32m<ipython-input-1-6b860a2362d9>\u001b[0m in \u001b[0;36m<module>\u001b[0;34m\u001b[0m\n\u001b[1;32m      1\u001b[0m \u001b[0;32mfrom\u001b[0m \u001b[0mtyping\u001b[0m \u001b[0;32mimport\u001b[0m \u001b[0mList\u001b[0m\u001b[0;34m,\u001b[0m \u001b[0mOptional\u001b[0m\u001b[0;34m\u001b[0m\u001b[0;34m\u001b[0m\u001b[0m\n\u001b[0;32m----> 2\u001b[0;31m \u001b[0;32mfrom\u001b[0m \u001b[0mfastapi\u001b[0m \u001b[0;32mimport\u001b[0m \u001b[0mFastAPI\u001b[0m\u001b[0;34m\u001b[0m\u001b[0;34m\u001b[0m\u001b[0m\n\u001b[0m\u001b[1;32m      3\u001b[0m \u001b[0;34m\u001b[0m\u001b[0m\n\u001b[1;32m      4\u001b[0m \u001b[0mapp\u001b[0m \u001b[0;34m=\u001b[0m \u001b[0mFastAPI\u001b[0m\u001b[0;34m(\u001b[0m\u001b[0;34m)\u001b[0m\u001b[0;34m\u001b[0m\u001b[0;34m\u001b[0m\u001b[0m\n",
      "\u001b[0;31mModuleNotFoundError\u001b[0m: No module named 'fastapi'"
     ]
    }
   ],
   "source": [
    "from typing import List, Optional\n",
    "from fastapi import FastAPI\n",
    "\n",
    "app = FastAPI()"
   ]
  },
  {
   "cell_type": "code",
   "execution_count": null,
   "id": "934e0583-d57d-47c3-ab66-85ee37b3f1b1",
   "metadata": {},
   "outputs": [],
   "source": [
    "# Define a dummy population dataset\n",
    "population_data = {\n",
    "    \"USA\": 328_200_000,\n",
    "    \"China\": 1_398_500_000,\n",
    "    \"India\": 1_366_400_000,\n",
    "    \"Brazil\": 210_000_000,\n",
    "    \"Pakistan\": 220_892_340\n",
    "}\n",
    "\n",
    "# Endpoint to serve population data for a specific country\n",
    "@app.get(\"/population/{country_name}\")\n",
    "def get_population(country_name: str):\n",
    "    if country_name in population_data:\n",
    "        return {\"country\": country_name, \"population\": population_data[country_name]}\n",
    "    else:\n",
    "        return {\"error\": f\"Country '{country_name}' not found.\"}\n",
    "\n",
    "# Endpoint to manipulate the population data for a specific country\n",
    "@app.put(\"/population/{country_name}\")\n",
    "def update_population(country_name: str, new_population: int):\n",
    "    if country_name in population_data:\n",
    "        population_data[country_name] = new_population\n",
    "        return {\"success\": f\"Population of '{country_name}' updated to {new_population}.\"}\n",
    "    else:\n",
    "        return {\"error\": f\"Country '{country_name}' not found.\"}"
   ]
  },
  {
   "cell_type": "markdown",
   "id": "86b2db79",
   "metadata": {},
   "source": [
    "![](data/chatgpt-1.png)"
   ]
  },
  {
   "cell_type": "markdown",
   "id": "8fd52760",
   "metadata": {},
   "source": [
    "![](data/chatgpt-2.png)"
   ]
  },
  {
   "cell_type": "code",
   "execution_count": null,
   "id": "cb640602",
   "metadata": {},
   "outputs": [],
   "source": []
  }
 ],
 "metadata": {
  "kernelspec": {
   "display_name": "Python 3",
   "language": "python",
   "name": "python3"
  },
  "language_info": {
   "codemirror_mode": {
    "name": "ipython",
    "version": 3
   },
   "file_extension": ".py",
   "mimetype": "text/x-python",
   "name": "python",
   "nbconvert_exporter": "python",
   "pygments_lexer": "ipython3",
   "version": "3.8.8"
  }
 },
 "nbformat": 4,
 "nbformat_minor": 5
}

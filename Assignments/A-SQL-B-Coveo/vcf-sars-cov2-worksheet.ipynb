{
 "cells": [
  {
   "cell_type": "markdown",
   "id": "317575f6-77a5-4550-ab42-4918e4734a68",
   "metadata": {},
   "source": [
    "<img src=\"https://www.ebi.ac.uk/ena/browser/assets/ENA_logo_2021.png\" width=\"350\" style=\"float: right;\"> \n",
    "<img src=\"https://upload.wikimedia.org/wikipedia/commons/thumb/9/94/Coronavirus._SARS-CoV-2.png/220px-Coronavirus._SARS-CoV-2.png\" widtf=\"150\" style=\"float: right;\">\n",
    "\n",
    "# SQL queries to Biological databases \n",
    "\n",
    "## Analysis of SARS-COV-2 mutation database\n",
    "\n",
    "This notebook explores the [SARS-Cov-2](https://en.wikipedia.org/wiki/Severe_acute_respiratory_syndrome_coronavirus_2) VCF database. The database consists of 4 tables with data of [ENA (European Nucleotide Archive)](https://www.ebi.ac.uk/ena/browser/home) sequencing runs. [VCF](https://en.wikipedia.org/wiki/Variant_Call_Format) datasets store information about sequence variants, in our case divergent types of Sars-Cov2 virus sequences. An extensive metadata table is also available, which can be linked to VCF data via the ENA run ID. Lineage tables contain information about the types and number of mutations that define different variants."
   ]
  },
  {
   "cell_type": "markdown",
   "id": "cc247b5f-776e-42f9-ad6f-271c0b83b7a4",
   "metadata": {},
   "source": [
    "### 0. Connect to the production or replica databases\n",
    "\n",
    "The picture below shows the diagram of the database (only the relevant part). The lines show which table uses foreign keys from which other table. The table `lineage` is a materialized view and no foreign key can be explicitly declared there. "
   ]
  },
  {
   "cell_type": "markdown",
   "id": "61121e36-bbb2-42d9-b4ab-7d26ee134c2a",
   "metadata": {},
   "source": [
    "![](./db_diagramm.png)"
   ]
  },
  {
   "cell_type": "code",
   "execution_count": null,
   "id": "02d51790-acd2-4199-91c1-6da7b2b42996",
   "metadata": {},
   "outputs": [],
   "source": [
    "# import required libraries\n",
    "\n",
    "import psycopg2 # https://anaconda.org/anaconda/psycopg2\n",
    "import pandas as pd\n",
    "# import matplotlib.pyplot as plt\n",
    "# import seaborn as sns\n",
    "import time\n",
    "import json\n",
    "\n",
    "# Hide warnings for now\n",
    "import warnings\n",
    "warnings.filterwarnings('ignore')"
   ]
  },
  {
   "cell_type": "markdown",
   "id": "fccfea40-8fe8-4b91-9566-84aca1dbe295",
   "metadata": {},
   "source": [
    "Connection parameters"
   ]
  },
  {
   "cell_type": "code",
   "execution_count": null,
   "id": "391a4a17-575c-4fe5-93c0-1bb8e9ee4bd9",
   "metadata": {},
   "outputs": [],
   "source": [
    "conn = {}\n",
    "with open(\"/v/courses/dataesp2023.public/Datasets/D-SQL/coveo_connection.json\", 'r') as f:\n",
    "    conn = json.load(f)\n",
    "\n",
    "# Choose a server\n",
    "server = conn['ELTE_replica']"
   ]
  },
  {
   "cell_type": "code",
   "execution_count": null,
   "id": "45560b83-ab9c-4936-8dc6-1752874310a8",
   "metadata": {},
   "outputs": [],
   "source": [
    "# A function for submitting our queries\n",
    "# It opens a connection to the database, receives the result and closes the connection\n",
    "def execute_query(query, server):\n",
    "    start_time = time.time()\n",
    "    try:\n",
    "        with psycopg2.connect(f\"host='{server['host']}' port={server['port']} dbname='{server['dbname']}' user={server['user']} \\\n",
    "                              password={server['password']} options='{server['options']}'\") as conn:\n",
    "            data = pd.read_sql_query(query, conn)\n",
    "    except Exception as e:\n",
    "        print(\"Something went wrong.\", e)\n",
    "\n",
    "    elapsed_time = time.time() - start_time\n",
    "    minutes, seconds = divmod(elapsed_time, 60)\n",
    "    hours, minutes = divmod(minutes, 60)\n",
    "    print(\"\\033[32mRuntime: {:.0f} hours, {:.0f} minutes, {:.2f} seconds\\033[0m\".format(hours, minutes, seconds))\n",
    "    \n",
    "    return data"
   ]
  },
  {
   "cell_type": "markdown",
   "id": "6a01d875-ef86-4219-a593-bd06b68bc437",
   "metadata": {},
   "source": [
    "    i) Get the list of tables in the Coveo database, under the `datahub_0` scheme! (1p)"
   ]
  },
  {
   "cell_type": "markdown",
   "id": "39f12a9c-3dab-42bf-9269-02c60af48cf9",
   "metadata": {},
   "source": [
    "### 1. Simple analysis of the tables"
   ]
  },
  {
   "cell_type": "markdown",
   "id": "a0db7336-89b8-48fe-85df-b5c36fd2d78b",
   "metadata": {},
   "source": [
    "    i) Take a look at the head of the `metadata`, `vcf_key`, `vcf`, `cov` and `country` tables (1p)"
   ]
  },
  {
   "cell_type": "markdown",
   "id": "4c9d0b76-3133-4555-8f45-9b1a029e1437",
   "metadata": {},
   "source": [
    "    ii) What is the earliest and last collection date os the samples? (Max and Min) (1p)"
   ]
  },
  {
   "cell_type": "markdown",
   "id": "2b74715b-403e-44e6-a1aa-e84c59fffad6",
   "metadata": {},
   "source": [
    "    iii) Number of all samples in `metadata` (1p)"
   ]
  },
  {
   "cell_type": "markdown",
   "id": "e07ab358-97db-400f-8be1-d05f105ac31d",
   "metadata": {},
   "source": [
    "    iv) Number of all samples in `vcf` (1p)"
   ]
  },
  {
   "cell_type": "markdown",
   "id": "fedb246f-284e-471a-9676-b4f8ccd102b7",
   "metadata": {},
   "source": [
    "### 2. Further analysis"
   ]
  },
  {
   "cell_type": "markdown",
   "id": "a90cd496-3b8d-4880-94ca-33b7fc1a3995",
   "metadata": {},
   "source": [
    "    i) Are there samples that is only in the `metadata` or only in `vcf` tables? (2p)\n",
    "    Possible reason: no mutation in the sample, subsequent submit, manual error"
   ]
  },
  {
   "cell_type": "markdown",
   "id": "3d44b820-8dcb-4f06-a21b-c80c21145fb4",
   "metadata": {},
   "source": [
    "    ii) Where do the samples come from? (2p)"
   ]
  },
  {
   "cell_type": "markdown",
   "id": "6727a675-9622-4e22-be30-ed542a660d93",
   "metadata": {},
   "source": [
    "### 3. Search for mutations of interest in the database"
   ]
  },
  {
   "cell_type": "markdown",
   "id": "a3fb0ddf-bb4c-41ac-8603-f89203b6d34f",
   "metadata": {},
   "source": [
    "    i) How many samples (runid) in the database contain the following mutations? (use vcf table): a T9I amino acid mutation in the coat protein, caused by a cytosine (vcf.ref=C) - thymine (vcf.alt=T) change at position 26270 (pos = 26270) in the genome (2p)\n",
    "    "
   ]
  },
  {
   "cell_type": "markdown",
   "id": "7fccff2f-1a79-449c-8adf-fd27cc571093",
   "metadata": {},
   "source": [
    "    ii) - How many samples remain if only those with more definite mutations are tested (qualitative filter: min 90% allele frequency (vcf.af > 0.9), min 100 coverage (vcf.dp > 100))? (use `vcf` table) (2p)"
   ]
  },
  {
   "cell_type": "markdown",
   "id": "983c06aa-2070-4517-9ca0-a36e9a7d2edb",
   "metadata": {},
   "source": [
    "    iii) In which countries (country.id) have these mutations been detected? (use `vcf`, `metadata`, `country` tables) (3p)"
   ]
  },
  {
   "cell_type": "markdown",
   "id": "91728aca-68f0-43c2-ac5b-275cc78715ea",
   "metadata": {},
   "source": [
    "    iv) In which variants (lineage.variant_id) are these mutations common? (use `vcf`, `metadata`, `lineage` tables) (3p)"
   ]
  },
  {
   "cell_type": "markdown",
   "id": "88c80229-8857-41dc-aa08-d57172bfce67",
   "metadata": {},
   "source": [
    "### 4. In which variants (variant_id) contain the most deletion (LENGTH(vcf.ref) > LENGTH(vcf.alt)) or insertion (LENGTH(vcf.ref) < LENGTH(vcf.alt)) (use the `lineage` and`vcf` tables)? (4p)"
   ]
  },
  {
   "cell_type": "code",
   "execution_count": null,
   "id": "932ad347-5823-44ee-ac0f-9250eb19fdd9",
   "metadata": {},
   "outputs": [],
   "source": []
  }
 ],
 "metadata": {
  "kernelspec": {
   "display_name": "Python 3 (ipykernel)",
   "language": "python",
   "name": "python3"
  },
  "language_info": {
   "codemirror_mode": {
    "name": "ipython",
    "version": 3
   },
   "file_extension": ".py",
   "mimetype": "text/x-python",
   "name": "python",
   "nbconvert_exporter": "python",
   "pygments_lexer": "ipython3",
   "version": "3.9.13"
  }
 },
 "nbformat": 4,
 "nbformat_minor": 5
}

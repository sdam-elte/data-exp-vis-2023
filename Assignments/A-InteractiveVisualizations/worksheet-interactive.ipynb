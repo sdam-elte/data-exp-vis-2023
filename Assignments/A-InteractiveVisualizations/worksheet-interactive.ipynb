{
 "cells": [
  {
   "cell_type": "markdown",
   "metadata": {},
   "source": [
    "## Reproduce an interactive report from https://atlo.team/ website \n",
    "Their most popular visualizations are most probably on the https://atlo.team/koronamonitor/ page.\n",
    "\n",
    "### Choose 3 figures which don't have the same visualization type!\n",
    "\n",
    "### You can use any visualization package, but it has \n",
    "  * to be extendible by others\n",
    "  * to be open source\n",
    "  * portable, e.g. viewed in a browser\n",
    "\n",
    "### Some of the popular packages are:\n",
    "  * **bokeh**\n",
    "  * **plotly**\n",
    "  * **R shiny**\n",
    "  * **RMarkdown**\n",
    "  * a Jupyter book - https://executablebooks.org/en/latest/\n",
    "  * or something similar that can be shared and **viewed in a browser**\n",
    "\n",
    "If you create a notebook, then **convert it to html**!\n",
    " ```\n",
    " jupyter-nbconvert --to html --execute --no-input worksheet-interactive.ipynb\n",
    " ```\n",
    "\n",
    "You can find further interactive tools on the *pyviz* site: \n",
    "* https://docs.bokeh.org/en/latest/\n",
    "* http://pyviz.org/\n",
    "* http://holoviews.org\n",
    "* https://plotly.com/dash/\n",
    "* https://shiny.rstudio.com/"
   ]
  },
  {
   "cell_type": "code",
   "execution_count": 1,
   "metadata": {},
   "outputs": [
    {
     "name": "stdout",
     "output_type": "stream",
     "text": [
      "[NbConvertApp] Converting notebook worksheet-interactive.ipynb to html\n",
      "[NbConvertApp] Writing 576639 bytes to worksheet-interactive.html\n"
     ]
    }
   ],
   "source": [
    "!jupyter-nbconvert --to html --execute --no-input worksheet-interactive.ipynb"
   ]
  },
  {
   "cell_type": "code",
   "execution_count": null,
   "metadata": {},
   "outputs": [],
   "source": []
  }
 ],
 "metadata": {
  "kernelspec": {
   "display_name": "Python 3",
   "language": "python",
   "name": "python3"
  },
  "language_info": {
   "codemirror_mode": {
    "name": "ipython",
    "version": 3
   },
   "file_extension": ".py",
   "mimetype": "text/x-python",
   "name": "python",
   "nbconvert_exporter": "python",
   "pygments_lexer": "ipython3",
   "version": "3.8.8"
  }
 },
 "nbformat": 4,
 "nbformat_minor": 4
}
